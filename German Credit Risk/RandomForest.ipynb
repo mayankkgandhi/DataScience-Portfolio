{
 "cells": [
  {
   "cell_type": "code",
   "execution_count": 1,
   "metadata": {},
   "outputs": [],
   "source": [
    "# Load the required Libraries\n",
    "\n",
    "import numpy\n",
    "import pandas as pd\n",
    "from matplotlib import pyplot as plt\n",
    "import seaborn as sns\n",
    "from sklearn.model_selection import train_test_split\n",
    "from sklearn.model_selection import KFold\n",
    "from sklearn.model_selection import cross_val_score\n",
    "from sklearn.metrics import confusion_matrix\n",
    "from sklearn.metrics import accuracy_score\n",
    "\n",
    "# Load scikit's random forest classifier library\n",
    "\n",
    "from sklearn.ensemble import RandomForestClassifier\n"
   ]
  },
  {
   "cell_type": "code",
   "execution_count": 2,
   "metadata": {},
   "outputs": [],
   "source": [
    "#Read the csv file using pandas\n",
    "\n",
    "df = pd.read_csv(\"/Users/webiodev/Downloads/german_credit.csv\")"
   ]
  },
  {
   "cell_type": "code",
   "execution_count": 3,
   "metadata": {
    "collapsed": true
   },
   "outputs": [
    {
     "name": "stdout",
     "output_type": "stream",
     "text": [
      "<class 'pandas.core.frame.DataFrame'>\n",
      "RangeIndex: 1000 entries, 0 to 999\n",
      "Data columns (total 21 columns):\n",
      "Creditability                        1000 non-null int64\n",
      "Account Balance                      1000 non-null int64\n",
      "Duration of Credit (month)           1000 non-null int64\n",
      "Payment Status of Previous Credit    1000 non-null int64\n",
      "Purpose                              1000 non-null int64\n",
      "Credit Amount                        1000 non-null int64\n",
      "Value Savings/Stocks                 1000 non-null int64\n",
      "Length of current employment         1000 non-null int64\n",
      "Instalment per cent                  1000 non-null int64\n",
      "Sex & Marital Status                 1000 non-null int64\n",
      "Guarantors                           1000 non-null int64\n",
      "Duration in Current address          1000 non-null int64\n",
      "Most valuable available asset        1000 non-null int64\n",
      "Age (years)                          1000 non-null int64\n",
      "Concurrent Credits                   1000 non-null int64\n",
      "Type of apartment                    1000 non-null int64\n",
      "No of Credits at this Bank           1000 non-null int64\n",
      "Occupation                           1000 non-null int64\n",
      "No of dependents                     1000 non-null int64\n",
      "Telephone                            1000 non-null int64\n",
      "Foreign Worker                       1000 non-null int64\n",
      "dtypes: int64(21)\n",
      "memory usage: 164.1 KB\n",
      "None\n",
      "   Creditability  Account Balance  Duration of Credit (month)  \\\n",
      "0              1                1                          18   \n",
      "1              1                1                           9   \n",
      "2              1                2                          12   \n",
      "3              1                1                          12   \n",
      "4              1                1                          12   \n",
      "\n",
      "   Payment Status of Previous Credit  Purpose  Credit Amount  \\\n",
      "0                                  4        2           1049   \n",
      "1                                  4        0           2799   \n",
      "2                                  2        9            841   \n",
      "3                                  4        0           2122   \n",
      "4                                  4        0           2171   \n",
      "\n",
      "   Value Savings/Stocks  Length of current employment  Instalment per cent  \\\n",
      "0                     1                             2                    4   \n",
      "1                     1                             3                    2   \n",
      "2                     2                             4                    2   \n",
      "3                     1                             3                    3   \n",
      "4                     1                             3                    4   \n",
      "\n",
      "   Sex & Marital Status  ...  Duration in Current address  \\\n",
      "0                     2  ...                            4   \n",
      "1                     3  ...                            2   \n",
      "2                     2  ...                            4   \n",
      "3                     3  ...                            2   \n",
      "4                     3  ...                            4   \n",
      "\n",
      "   Most valuable available asset  Age (years)  Concurrent Credits  \\\n",
      "0                              2           21                   3   \n",
      "1                              1           36                   3   \n",
      "2                              1           23                   3   \n",
      "3                              1           39                   3   \n",
      "4                              2           38                   1   \n",
      "\n",
      "   Type of apartment  No of Credits at this Bank  Occupation  \\\n",
      "0                  1                           1           3   \n",
      "1                  1                           2           3   \n",
      "2                  1                           1           2   \n",
      "3                  1                           2           2   \n",
      "4                  2                           2           2   \n",
      "\n",
      "   No of dependents  Telephone  Foreign Worker  \n",
      "0                 1          1               1  \n",
      "1                 2          1               1  \n",
      "2                 1          1               1  \n",
      "3                 2          1               2  \n",
      "4                 1          1               2  \n",
      "\n",
      "[5 rows x 21 columns]\n"
     ]
    }
   ],
   "source": [
    "#Get information on data\n",
    "\n",
    "print(df.info())\n",
    "print(df.head())"
   ]
  },
  {
   "cell_type": "code",
   "execution_count": 4,
   "metadata": {},
   "outputs": [],
   "source": [
    "#Split the data into X features and Target\n",
    "\n",
    "X = df.iloc[:,1:]\n",
    "target = df['Creditability']"
   ]
  },
  {
   "cell_type": "code",
   "execution_count": 5,
   "metadata": {},
   "outputs": [],
   "source": [
    "#Split the data into Train and Test sets\n",
    "\n",
    "X_train, X_test, Y_train, Y_test = train_test_split(X,target,test_size=0.3,random_state=123)"
   ]
  },
  {
   "cell_type": "code",
   "execution_count": 6,
   "metadata": {},
   "outputs": [],
   "source": [
    "#Random Forest model from Sk-Learn\n",
    "\n",
    "model = RandomForestClassifier(n_estimators=100).fit(X_train,Y_train)"
   ]
  },
  {
   "cell_type": "code",
   "execution_count": 7,
   "metadata": {},
   "outputs": [],
   "source": [
    "#Making predictions on the test set\n",
    "\n",
    "y_pred = model.predict(X_test)"
   ]
  },
  {
   "cell_type": "code",
   "execution_count": 8,
   "metadata": {},
   "outputs": [
    {
     "name": "stdout",
     "output_type": "stream",
     "text": [
      "Accuracy: 75.33333333333333\n"
     ]
    }
   ],
   "source": [
    "#Checking the accuracy of the model\n",
    "\n",
    "accuracy = accuracy_score(Y_test, y_pred)\n",
    "print(\"Accuracy:\" ,accuracy*100)"
   ]
  },
  {
   "cell_type": "code",
   "execution_count": 9,
   "metadata": {},
   "outputs": [
    {
     "data": {
      "text/plain": [
       "Text(0.5, 69.0, 'Predicted')"
      ]
     },
     "execution_count": 9,
     "metadata": {},
     "output_type": "execute_result"
    },
    {
     "data": {
      "image/png": "[encoded data removed]",
      "text/plain": [
       "<Figure size 720x720 with 2 Axes>"
      ]
     },
     "metadata": {
      "needs_background": "light"
     },
     "output_type": "display_data"
    }
   ],
   "source": [
    "#Confusion Matrix to visualize our results\n",
    "\n",
    "conf_mat = confusion_matrix(Y_test, y_pred)\n",
    "fig, ax = plt.subplots(figsize=(10,10))\n",
    "sns.heatmap(conf_mat, annot=True, fmt='d')\n",
    "plt.ylabel('Actual')\n",
    "plt.xlabel('Predicted')"
   ]
  },
  {
   "cell_type": "code",
   "execution_count": 10,
   "metadata": {},
   "outputs": [
    {
     "name": "stdout",
     "output_type": "stream",
     "text": [
      "Random Forest Classifier Accuracy: 67.800000\n"
     ]
    }
   ],
   "source": [
    "#Evaluation of our model using K-Fold Cross Validation\n",
    "\n",
    "kfold = KFold(n_splits=10, random_state=123)\n",
    "cv_results = cross_val_score(RandomForestClassifier(n_estimators=100), X,target, cv=kfold, scoring='accuracy')\n",
    "result = \"%s: %f\" % ('Random Forest Classifier Accuracy', cv_results.mean()*100)\n",
    "print(result)\n"
   ]
  }
 ],
 "metadata": {
  "kernelspec": {
   "display_name": "Python 3",
   "language": "python",
   "name": "python3"
  },
  "language_info": {
   "codemirror_mode": {
    "name": "ipython",
    "version": 3
   },
   "file_extension": ".py",
   "mimetype": "text/x-python",
   "name": "python",
   "nbconvert_exporter": "python",
   "pygments_lexer": "ipython3",
   "version": "3.7.3"
  }
 },
 "nbformat": 4,
 "nbformat_minor": 2
}
